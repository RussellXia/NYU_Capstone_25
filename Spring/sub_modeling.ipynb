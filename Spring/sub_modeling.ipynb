{
 "cells": [
  {
   "cell_type": "code",
   "execution_count": 16,
   "metadata": {},
   "outputs": [],
   "source": [
    "import pandas as pd\n",
    "import numpy as np\n",
    "import matplotlib.pyplot as plt\n",
    "import seaborn as sns\n",
    "import datetime\n",
    "import xgboost as xgb\n",
    "import matplotlib.pyplot as plt\n",
    "from sklearn.metrics import mean_squared_error\n",
    "from sklearn.metrics import roc_auc_score, recall_score, precision_score, f1_score, accuracy_score, confusion_matrix, ConfusionMatrixDisplay\n",
    "from sklearn.cluster import KMeans\n",
    "import plotly.offline as pyoff\n",
    "import plotly.graph_objs as go\n",
    "from sklearn.model_selection import train_test_split\n",
    "from sklearn.metrics import classification_report\n",
    "from sklearn.model_selection import GridSearchCV"
   ]
  },
  {
   "cell_type": "markdown",
   "metadata": {},
   "source": [
    "# Using original features\n",
    "## Training set modeling"
   ]
  },
  {
   "cell_type": "code",
   "execution_count": 28,
   "metadata": {},
   "outputs": [],
   "source": [
    "sub_train = pd.read_csv('/Users/vivianyan/Desktop/NYU_Capstone_Project/Data/sub_train.csv')\n",
    "sub_val = pd.read_csv('/Users/vivianyan/Desktop/NYU_Capstone_Project/Data/sub_val.csv')\n",
    "sub_test = pd.read_csv('/Users/vivianyan/Desktop/NYU_Capstone_Project/Data/sub_test.csv')"
   ]
  },
  {
   "cell_type": "markdown",
   "metadata": {},
   "source": [
    "### Convert categorical features into numerical"
   ]
  },
  {
   "cell_type": "code",
   "execution_count": 29,
   "metadata": {},
   "outputs": [
    {
     "data": {
      "text/html": [
       "<div>\n",
       "<style scoped>\n",
       "    .dataframe tbody tr th:only-of-type {\n",
       "        vertical-align: middle;\n",
       "    }\n",
       "\n",
       "    .dataframe tbody tr th {\n",
       "        vertical-align: top;\n",
       "    }\n",
       "\n",
       "    .dataframe thead th {\n",
       "        text-align: right;\n",
       "    }\n",
       "</style>\n",
       "<table border=\"1\" class=\"dataframe\">\n",
       "  <thead>\n",
       "    <tr style=\"text-align: right;\">\n",
       "      <th></th>\n",
       "      <th>Capstone_id</th>\n",
       "      <th>RESUBSCRIBER</th>\n",
       "      <th>recency</th>\n",
       "      <th>frequency</th>\n",
       "      <th>monetary_1</th>\n",
       "      <th>recency_cluster</th>\n",
       "      <th>frequency_cluster</th>\n",
       "      <th>monetary_cluster</th>\n",
       "      <th>segment</th>\n",
       "      <th>monetary_2</th>\n",
       "      <th>multi_sub</th>\n",
       "      <th>churned</th>\n",
       "      <th>LTV_cluster</th>\n",
       "      <th>BRAND_CHILLSTREAM</th>\n",
       "      <th>BRAND_CINEQUEST</th>\n",
       "      <th>BRAND_LIMELIGHT</th>\n",
       "      <th>BRAND_PULSE</th>\n",
       "      <th>BRAND_RETROREEL</th>\n",
       "      <th>CURRENT_TERM_annual</th>\n",
       "      <th>CURRENT_TERM_monthly</th>\n",
       "    </tr>\n",
       "  </thead>\n",
       "  <tbody>\n",
       "    <tr>\n",
       "      <th>0</th>\n",
       "      <td>TIA3987582</td>\n",
       "      <td>0</td>\n",
       "      <td>150</td>\n",
       "      <td>1</td>\n",
       "      <td>45.43</td>\n",
       "      <td>2</td>\n",
       "      <td>2</td>\n",
       "      <td>1</td>\n",
       "      <td>3</td>\n",
       "      <td>37.56</td>\n",
       "      <td>1</td>\n",
       "      <td>0</td>\n",
       "      <td>1</td>\n",
       "      <td>0</td>\n",
       "      <td>0</td>\n",
       "      <td>1</td>\n",
       "      <td>0</td>\n",
       "      <td>0</td>\n",
       "      <td>1</td>\n",
       "      <td>0</td>\n",
       "    </tr>\n",
       "    <tr>\n",
       "      <th>1</th>\n",
       "      <td>PNY8037927</td>\n",
       "      <td>0</td>\n",
       "      <td>60</td>\n",
       "      <td>1</td>\n",
       "      <td>19.98</td>\n",
       "      <td>0</td>\n",
       "      <td>2</td>\n",
       "      <td>0</td>\n",
       "      <td>1</td>\n",
       "      <td>0.00</td>\n",
       "      <td>0</td>\n",
       "      <td>1</td>\n",
       "      <td>0</td>\n",
       "      <td>0</td>\n",
       "      <td>0</td>\n",
       "      <td>0</td>\n",
       "      <td>0</td>\n",
       "      <td>1</td>\n",
       "      <td>0</td>\n",
       "      <td>1</td>\n",
       "    </tr>\n",
       "    <tr>\n",
       "      <th>2</th>\n",
       "      <td>SRA6677487</td>\n",
       "      <td>0</td>\n",
       "      <td>7</td>\n",
       "      <td>1</td>\n",
       "      <td>7.99</td>\n",
       "      <td>0</td>\n",
       "      <td>2</td>\n",
       "      <td>0</td>\n",
       "      <td>1</td>\n",
       "      <td>0.00</td>\n",
       "      <td>0</td>\n",
       "      <td>1</td>\n",
       "      <td>0</td>\n",
       "      <td>0</td>\n",
       "      <td>0</td>\n",
       "      <td>0</td>\n",
       "      <td>1</td>\n",
       "      <td>0</td>\n",
       "      <td>0</td>\n",
       "      <td>1</td>\n",
       "    </tr>\n",
       "    <tr>\n",
       "      <th>3</th>\n",
       "      <td>QIO2081907</td>\n",
       "      <td>0</td>\n",
       "      <td>16</td>\n",
       "      <td>1</td>\n",
       "      <td>9.99</td>\n",
       "      <td>0</td>\n",
       "      <td>2</td>\n",
       "      <td>0</td>\n",
       "      <td>1</td>\n",
       "      <td>0.00</td>\n",
       "      <td>0</td>\n",
       "      <td>1</td>\n",
       "      <td>0</td>\n",
       "      <td>0</td>\n",
       "      <td>0</td>\n",
       "      <td>0</td>\n",
       "      <td>0</td>\n",
       "      <td>1</td>\n",
       "      <td>0</td>\n",
       "      <td>1</td>\n",
       "    </tr>\n",
       "    <tr>\n",
       "      <th>4</th>\n",
       "      <td>UYU7131656</td>\n",
       "      <td>0</td>\n",
       "      <td>90</td>\n",
       "      <td>1</td>\n",
       "      <td>36.58</td>\n",
       "      <td>1</td>\n",
       "      <td>2</td>\n",
       "      <td>1</td>\n",
       "      <td>2</td>\n",
       "      <td>59.34</td>\n",
       "      <td>0</td>\n",
       "      <td>0</td>\n",
       "      <td>2</td>\n",
       "      <td>0</td>\n",
       "      <td>0</td>\n",
       "      <td>0</td>\n",
       "      <td>1</td>\n",
       "      <td>0</td>\n",
       "      <td>0</td>\n",
       "      <td>1</td>\n",
       "    </tr>\n",
       "  </tbody>\n",
       "</table>\n",
       "</div>"
      ],
      "text/plain": [
       "  Capstone_id  RESUBSCRIBER  recency  frequency  monetary_1  recency_cluster  \\\n",
       "0  TIA3987582             0      150          1       45.43                2   \n",
       "1  PNY8037927             0       60          1       19.98                0   \n",
       "2  SRA6677487             0        7          1        7.99                0   \n",
       "3  QIO2081907             0       16          1        9.99                0   \n",
       "4  UYU7131656             0       90          1       36.58                1   \n",
       "\n",
       "   frequency_cluster  monetary_cluster  segment  monetary_2  multi_sub  \\\n",
       "0                  2                 1        3       37.56          1   \n",
       "1                  2                 0        1        0.00          0   \n",
       "2                  2                 0        1        0.00          0   \n",
       "3                  2                 0        1        0.00          0   \n",
       "4                  2                 1        2       59.34          0   \n",
       "\n",
       "   churned  LTV_cluster  BRAND_CHILLSTREAM  BRAND_CINEQUEST  BRAND_LIMELIGHT  \\\n",
       "0        0            1                  0                0                1   \n",
       "1        1            0                  0                0                0   \n",
       "2        1            0                  0                0                0   \n",
       "3        1            0                  0                0                0   \n",
       "4        0            2                  0                0                0   \n",
       "\n",
       "   BRAND_PULSE  BRAND_RETROREEL  CURRENT_TERM_annual  CURRENT_TERM_monthly  \n",
       "0            0                0                    1                     0  \n",
       "1            0                1                    0                     1  \n",
       "2            1                0                    0                     1  \n",
       "3            0                1                    0                     1  \n",
       "4            1                0                    0                     1  "
      ]
     },
     "execution_count": 29,
     "metadata": {},
     "output_type": "execute_result"
    }
   ],
   "source": [
    "sub_train = pd.get_dummies(sub_train, columns=['BRAND', 'CURRENT_TERM'], dtype='int')\n",
    "sub_train = sub_train.drop(columns=['Unnamed: 0', 'SUB_START', 'SUB_END', 'CURRENT_TERM_weekly'])\n",
    "sub_train.head()"
   ]
  },
  {
   "cell_type": "markdown",
   "metadata": {},
   "source": [
    "### Correlation matrix across features"
   ]
  },
  {
   "cell_type": "code",
   "execution_count": 30,
   "metadata": {},
   "outputs": [
    {
     "data": {
      "text/plain": [
       "LTV_cluster             1.000000\n",
       "monetary_2              0.945474\n",
       "recency                 0.537319\n",
       "recency_cluster         0.535151\n",
       "segment                 0.291884\n",
       "monetary_cluster        0.199706\n",
       "monetary_1              0.108973\n",
       "RESUBSCRIBER            0.106478\n",
       "frequency               0.099369\n",
       "BRAND_LIMELIGHT         0.089391\n",
       "BRAND_RETROREEL         0.062957\n",
       "multi_sub               0.042789\n",
       "CURRENT_TERM_annual     0.001236\n",
       "CURRENT_TERM_monthly   -0.001292\n",
       "BRAND_PULSE            -0.023149\n",
       "BRAND_CINEQUEST        -0.066818\n",
       "BRAND_CHILLSTREAM      -0.093127\n",
       "frequency_cluster      -0.103375\n",
       "churned                -0.788162\n",
       "Name: LTV_cluster, dtype: float64"
      ]
     },
     "execution_count": 30,
     "metadata": {},
     "output_type": "execute_result"
    }
   ],
   "source": [
    "corr_matrix = sub_train.corr(numeric_only=True)\n",
    "corr_matrix['LTV_cluster'].sort_values(ascending=False)"
   ]
  },
  {
   "cell_type": "markdown",
   "metadata": {},
   "source": [
    "### XGB with 5 cross validation"
   ]
  },
  {
   "cell_type": "code",
   "execution_count": 31,
   "metadata": {},
   "outputs": [
    {
     "name": "stdout",
     "output_type": "stream",
     "text": [
      "Fitting 5 folds for each of 12 candidates, totalling 60 fits\n",
      "Best parameters found:  {'learning_rate': 0.1, 'max_depth': 5, 'n_estimators': 300}\n",
      "Best cross-validation score:  0.9755989352262645\n"
     ]
    }
   ],
   "source": [
    "X_train = sub_train.drop(['Capstone_id','monetary_2', 'LTV_cluster'], axis=1)\n",
    "y_train = sub_train['LTV_cluster']\n",
    "\n",
    "param_grid = {\n",
    "    'max_depth': [3, 5],        \n",
    "    'learning_rate': [0.01, 0.05, 0.1],\n",
    "    'n_estimators': [100, 300]\n",
    "}\n",
    "\n",
    "ltv_xgb_model = xgb.XGBClassifier(\n",
    "    objective='binary:logistic',  # Changed for binary classification\n",
    "    n_jobs=-1, \n",
    "    min_child_weight=1,\n",
    "    random_state=42\n",
    ")\n",
    "\n",
    "grid_search = GridSearchCV(\n",
    "    estimator=ltv_xgb_model,\n",
    "    param_grid=param_grid,\n",
    "    scoring='accuracy',  \n",
    "    cv=5,      # 5-fold cross-validation\n",
    "    n_jobs=-1,\n",
    "    verbose=1,\n",
    ")\n",
    "\n",
    "grid_search.fit(X_train, y_train)\n",
    "print(\"Best parameters found: \", grid_search.best_params_)\n",
    "print(\"Best cross-validation score: \", grid_search.best_score_)\n",
    "# ltv_xgb_model = xgb.XGBClassifier(max_depth=5, learning_rate=0.1, objective= 'multi:softprob', n_jobs=-1).fit(X_train, y_train)\n",
    "# print('Accuracy of XGB classifier on training set: {:.2f}'.format(ltv_xgb_model.score(X_train, y_train)))\n",
    "# print('Accuracy of XGB classifier on test set: {:.2f}'.format(ltv_xgb_model.score(X_test[X_train.columns], y_test)))"
   ]
  },
  {
   "cell_type": "markdown",
   "metadata": {},
   "source": [
    "## Fit best model to test set"
   ]
  },
  {
   "cell_type": "code",
   "execution_count": 32,
   "metadata": {},
   "outputs": [],
   "source": [
    "sub_val = pd.get_dummies(sub_val, columns=['BRAND', 'CURRENT_TERM'], dtype='int')\n",
    "sub_val = sub_val.drop(columns=['Unnamed: 0', 'SUB_START', 'SUB_END'])\n",
    "X_val = sub_val.drop(['Capstone_id','monetary_2', 'LTV_cluster'], axis=1)\n",
    "y_val = sub_val['LTV_cluster']\n",
    "\n",
    "sub_test = pd.get_dummies(sub_test, columns=['BRAND', 'CURRENT_TERM'], dtype='int')\n",
    "sub_test = sub_test.drop(columns=['Unnamed: 0', 'SUB_START', 'SUB_END'])\n",
    "X_test = sub_test.drop(['Capstone_id','monetary_2', 'LTV_cluster'], axis=1)\n",
    "y_test = sub_test['LTV_cluster']"
   ]
  },
  {
   "cell_type": "markdown",
   "metadata": {},
   "source": [
    "### Results"
   ]
  },
  {
   "cell_type": "code",
   "execution_count": 35,
   "metadata": {},
   "outputs": [
    {
     "name": "stdout",
     "output_type": "stream",
     "text": [
      "Accuracy of XGB classifier on training set: 0.98\n",
      "Accuracy of XGB classifier on test set: 0.97\n",
      "              precision    recall  f1-score   support\n",
      "\n",
      "           0       0.99      0.99      0.99      8287\n",
      "           1       0.96      0.94      0.95      3311\n",
      "           2       0.93      0.97      0.95      2893\n",
      "\n",
      "    accuracy                           0.97     14491\n",
      "   macro avg       0.96      0.97      0.97     14491\n",
      "weighted avg       0.97      0.97      0.97     14491\n",
      "\n"
     ]
    }
   ],
   "source": [
    "best_model = grid_search.best_estimator_\n",
    "\n",
    "train_acc = best_model.score(X_train, y_train)\n",
    "test_acc = best_model.score(X_test[X_train.columns], y_test)\n",
    "print('Accuracy of XGB classifier on training set: {:.2f}'.format(train_acc))\n",
    "print('Accuracy of XGB classifier on test set: {:.2f}'.format(test_acc))\n",
    "\n",
    "y_pred = best_model.predict(X_test)\n",
    "print(classification_report(y_test, y_pred))"
   ]
  },
  {
   "cell_type": "markdown",
   "metadata": {},
   "source": [
    "# Using partial features\n",
    "## Training set modeling"
   ]
  },
  {
   "cell_type": "code",
   "execution_count": 36,
   "metadata": {},
   "outputs": [],
   "source": [
    "sub_train = pd.read_csv('/Users/vivianyan/Desktop/NYU_Capstone_Project/Data/sub_train.csv')\n",
    "sub_val = pd.read_csv('/Users/vivianyan/Desktop/NYU_Capstone_Project/Data/sub_val.csv')\n",
    "sub_test = pd.read_csv('/Users/vivianyan/Desktop/NYU_Capstone_Project/Data/sub_test.csv')"
   ]
  },
  {
   "cell_type": "markdown",
   "metadata": {},
   "source": [
    "### Convert categorical features into numerical"
   ]
  },
  {
   "cell_type": "code",
   "execution_count": 37,
   "metadata": {},
   "outputs": [
    {
     "data": {
      "text/plain": [
       "Index(['Unnamed: 0', 'Capstone_id', 'SUB_START', 'SUB_END', 'BRAND',\n",
       "       'CURRENT_TERM', 'RESUBSCRIBER', 'recency', 'frequency', 'monetary_1',\n",
       "       'recency_cluster', 'frequency_cluster', 'monetary_cluster', 'segment',\n",
       "       'monetary_2', 'multi_sub', 'churned', 'LTV_cluster'],\n",
       "      dtype='object')"
      ]
     },
     "execution_count": 37,
     "metadata": {},
     "output_type": "execute_result"
    }
   ],
   "source": [
    "sub_train.columns"
   ]
  },
  {
   "cell_type": "code",
   "execution_count": 38,
   "metadata": {},
   "outputs": [
    {
     "data": {
      "text/html": [
       "<div>\n",
       "<style scoped>\n",
       "    .dataframe tbody tr th:only-of-type {\n",
       "        vertical-align: middle;\n",
       "    }\n",
       "\n",
       "    .dataframe tbody tr th {\n",
       "        vertical-align: top;\n",
       "    }\n",
       "\n",
       "    .dataframe thead th {\n",
       "        text-align: right;\n",
       "    }\n",
       "</style>\n",
       "<table border=\"1\" class=\"dataframe\">\n",
       "  <thead>\n",
       "    <tr style=\"text-align: right;\">\n",
       "      <th></th>\n",
       "      <th>Capstone_id</th>\n",
       "      <th>RESUBSCRIBER</th>\n",
       "      <th>recency_cluster</th>\n",
       "      <th>frequency_cluster</th>\n",
       "      <th>monetary_cluster</th>\n",
       "      <th>segment</th>\n",
       "      <th>monetary_2</th>\n",
       "      <th>multi_sub</th>\n",
       "      <th>churned</th>\n",
       "      <th>LTV_cluster</th>\n",
       "      <th>BRAND_CHILLSTREAM</th>\n",
       "      <th>BRAND_CINEQUEST</th>\n",
       "      <th>BRAND_LIMELIGHT</th>\n",
       "      <th>BRAND_PULSE</th>\n",
       "      <th>BRAND_RETROREEL</th>\n",
       "      <th>CURRENT_TERM_annual</th>\n",
       "      <th>CURRENT_TERM_monthly</th>\n",
       "    </tr>\n",
       "  </thead>\n",
       "  <tbody>\n",
       "    <tr>\n",
       "      <th>0</th>\n",
       "      <td>TIA3987582</td>\n",
       "      <td>0</td>\n",
       "      <td>2</td>\n",
       "      <td>2</td>\n",
       "      <td>1</td>\n",
       "      <td>3</td>\n",
       "      <td>37.56</td>\n",
       "      <td>1</td>\n",
       "      <td>0</td>\n",
       "      <td>1</td>\n",
       "      <td>0</td>\n",
       "      <td>0</td>\n",
       "      <td>1</td>\n",
       "      <td>0</td>\n",
       "      <td>0</td>\n",
       "      <td>1</td>\n",
       "      <td>0</td>\n",
       "    </tr>\n",
       "    <tr>\n",
       "      <th>1</th>\n",
       "      <td>PNY8037927</td>\n",
       "      <td>0</td>\n",
       "      <td>0</td>\n",
       "      <td>2</td>\n",
       "      <td>0</td>\n",
       "      <td>1</td>\n",
       "      <td>0.00</td>\n",
       "      <td>0</td>\n",
       "      <td>1</td>\n",
       "      <td>0</td>\n",
       "      <td>0</td>\n",
       "      <td>0</td>\n",
       "      <td>0</td>\n",
       "      <td>0</td>\n",
       "      <td>1</td>\n",
       "      <td>0</td>\n",
       "      <td>1</td>\n",
       "    </tr>\n",
       "    <tr>\n",
       "      <th>2</th>\n",
       "      <td>SRA6677487</td>\n",
       "      <td>0</td>\n",
       "      <td>0</td>\n",
       "      <td>2</td>\n",
       "      <td>0</td>\n",
       "      <td>1</td>\n",
       "      <td>0.00</td>\n",
       "      <td>0</td>\n",
       "      <td>1</td>\n",
       "      <td>0</td>\n",
       "      <td>0</td>\n",
       "      <td>0</td>\n",
       "      <td>0</td>\n",
       "      <td>1</td>\n",
       "      <td>0</td>\n",
       "      <td>0</td>\n",
       "      <td>1</td>\n",
       "    </tr>\n",
       "    <tr>\n",
       "      <th>3</th>\n",
       "      <td>QIO2081907</td>\n",
       "      <td>0</td>\n",
       "      <td>0</td>\n",
       "      <td>2</td>\n",
       "      <td>0</td>\n",
       "      <td>1</td>\n",
       "      <td>0.00</td>\n",
       "      <td>0</td>\n",
       "      <td>1</td>\n",
       "      <td>0</td>\n",
       "      <td>0</td>\n",
       "      <td>0</td>\n",
       "      <td>0</td>\n",
       "      <td>0</td>\n",
       "      <td>1</td>\n",
       "      <td>0</td>\n",
       "      <td>1</td>\n",
       "    </tr>\n",
       "    <tr>\n",
       "      <th>4</th>\n",
       "      <td>UYU7131656</td>\n",
       "      <td>0</td>\n",
       "      <td>1</td>\n",
       "      <td>2</td>\n",
       "      <td>1</td>\n",
       "      <td>2</td>\n",
       "      <td>59.34</td>\n",
       "      <td>0</td>\n",
       "      <td>0</td>\n",
       "      <td>2</td>\n",
       "      <td>0</td>\n",
       "      <td>0</td>\n",
       "      <td>0</td>\n",
       "      <td>1</td>\n",
       "      <td>0</td>\n",
       "      <td>0</td>\n",
       "      <td>1</td>\n",
       "    </tr>\n",
       "  </tbody>\n",
       "</table>\n",
       "</div>"
      ],
      "text/plain": [
       "  Capstone_id  RESUBSCRIBER  recency_cluster  frequency_cluster  \\\n",
       "0  TIA3987582             0                2                  2   \n",
       "1  PNY8037927             0                0                  2   \n",
       "2  SRA6677487             0                0                  2   \n",
       "3  QIO2081907             0                0                  2   \n",
       "4  UYU7131656             0                1                  2   \n",
       "\n",
       "   monetary_cluster  segment  monetary_2  multi_sub  churned  LTV_cluster  \\\n",
       "0                 1        3       37.56          1        0            1   \n",
       "1                 0        1        0.00          0        1            0   \n",
       "2                 0        1        0.00          0        1            0   \n",
       "3                 0        1        0.00          0        1            0   \n",
       "4                 1        2       59.34          0        0            2   \n",
       "\n",
       "   BRAND_CHILLSTREAM  BRAND_CINEQUEST  BRAND_LIMELIGHT  BRAND_PULSE  \\\n",
       "0                  0                0                1            0   \n",
       "1                  0                0                0            0   \n",
       "2                  0                0                0            1   \n",
       "3                  0                0                0            0   \n",
       "4                  0                0                0            1   \n",
       "\n",
       "   BRAND_RETROREEL  CURRENT_TERM_annual  CURRENT_TERM_monthly  \n",
       "0                0                    1                     0  \n",
       "1                1                    0                     1  \n",
       "2                0                    0                     1  \n",
       "3                1                    0                     1  \n",
       "4                0                    0                     1  "
      ]
     },
     "execution_count": 38,
     "metadata": {},
     "output_type": "execute_result"
    }
   ],
   "source": [
    "sub_train = pd.get_dummies(sub_train, columns=['BRAND', 'CURRENT_TERM'], dtype='int')\n",
    "sub_train = sub_train.drop(\n",
    "    columns=['Unnamed: 0', 'SUB_START', 'SUB_END', 'CURRENT_TERM_weekly',\n",
    "    'recency', 'frequency', 'monetary_1']\n",
    ")\n",
    "sub_train.head()"
   ]
  },
  {
   "cell_type": "markdown",
   "metadata": {},
   "source": [
    "### Correlation matrix across features"
   ]
  },
  {
   "cell_type": "code",
   "execution_count": 39,
   "metadata": {},
   "outputs": [
    {
     "data": {
      "text/plain": [
       "LTV_cluster             1.000000\n",
       "monetary_2              0.945474\n",
       "recency_cluster         0.535151\n",
       "segment                 0.291884\n",
       "monetary_cluster        0.199706\n",
       "RESUBSCRIBER            0.106478\n",
       "BRAND_LIMELIGHT         0.089391\n",
       "BRAND_RETROREEL         0.062957\n",
       "multi_sub               0.042789\n",
       "CURRENT_TERM_annual     0.001236\n",
       "CURRENT_TERM_monthly   -0.001292\n",
       "BRAND_PULSE            -0.023149\n",
       "BRAND_CINEQUEST        -0.066818\n",
       "BRAND_CHILLSTREAM      -0.093127\n",
       "frequency_cluster      -0.103375\n",
       "churned                -0.788162\n",
       "Name: LTV_cluster, dtype: float64"
      ]
     },
     "execution_count": 39,
     "metadata": {},
     "output_type": "execute_result"
    }
   ],
   "source": [
    "corr_matrix = sub_train.corr(numeric_only=True)\n",
    "corr_matrix['LTV_cluster'].sort_values(ascending=False)"
   ]
  },
  {
   "cell_type": "markdown",
   "metadata": {},
   "source": [
    "### XGB with 5 cross validation"
   ]
  },
  {
   "cell_type": "code",
   "execution_count": 40,
   "metadata": {},
   "outputs": [
    {
     "name": "stdout",
     "output_type": "stream",
     "text": [
      "Fitting 5 folds for each of 12 candidates, totalling 60 fits\n",
      "Best parameters found:  {'learning_rate': 0.1, 'max_depth': 3, 'n_estimators': 300}\n",
      "Best cross-validation score:  0.8890121265897664\n"
     ]
    }
   ],
   "source": [
    "X_train = sub_train.drop(['Capstone_id','monetary_2', 'LTV_cluster'], axis=1)\n",
    "y_train = sub_train['LTV_cluster']\n",
    "\n",
    "param_grid = {\n",
    "    'max_depth': [3, 5],        \n",
    "    'learning_rate': [0.01, 0.05, 0.1],\n",
    "    'n_estimators': [100, 300]\n",
    "}\n",
    "\n",
    "ltv_xgb_model = xgb.XGBClassifier(\n",
    "    objective='binary:logistic',  # Changed for binary classification\n",
    "    n_jobs=-1, \n",
    "    min_child_weight=1,\n",
    "    random_state=42\n",
    ")\n",
    "\n",
    "grid_search = GridSearchCV(\n",
    "    estimator=ltv_xgb_model,\n",
    "    param_grid=param_grid,\n",
    "    scoring='accuracy',  \n",
    "    cv=5,      # 5-fold cross-validation\n",
    "    n_jobs=-1,\n",
    "    verbose=1,\n",
    ")\n",
    "\n",
    "grid_search.fit(X_train, y_train)\n",
    "print(\"Best parameters found: \", grid_search.best_params_)\n",
    "print(\"Best cross-validation score: \", grid_search.best_score_)\n",
    "# ltv_xgb_model = xgb.XGBClassifier(max_depth=5, learning_rate=0.1, objective= 'multi:softprob', n_jobs=-1).fit(X_train, y_train)\n",
    "# print('Accuracy of XGB classifier on training set: {:.2f}'.format(ltv_xgb_model.score(X_train, y_train)))\n",
    "# print('Accuracy of XGB classifier on test set: {:.2f}'.format(ltv_xgb_model.score(X_test[X_train.columns], y_test)))"
   ]
  },
  {
   "cell_type": "markdown",
   "metadata": {},
   "source": [
    "## Fit best model to test set"
   ]
  },
  {
   "cell_type": "code",
   "execution_count": 44,
   "metadata": {},
   "outputs": [],
   "source": [
    "sub_val = pd.get_dummies(sub_val, columns=['BRAND', 'CURRENT_TERM'], dtype='int')\n",
    "sub_val = sub_val.drop(\n",
    "    columns=['Unnamed: 0', 'SUB_START', 'SUB_END', \n",
    "    'recency', 'frequency', 'monetary_1']\n",
    ")\n",
    "X_val = sub_val.drop(['Capstone_id','monetary_2', 'LTV_cluster'], axis=1)\n",
    "y_val = sub_val['LTV_cluster']\n",
    "\n",
    "sub_test = pd.get_dummies(sub_test, columns=['BRAND', 'CURRENT_TERM'], dtype='int')\n",
    "sub_test = sub_test.drop(\n",
    "    columns=['Unnamed: 0', 'SUB_START', 'SUB_END', \n",
    "    'recency', 'frequency', 'monetary_1']\n",
    ")\n",
    "X_test = sub_test.drop(['Capstone_id','monetary_2', 'LTV_cluster'], axis=1)\n",
    "y_test = sub_test['LTV_cluster']"
   ]
  },
  {
   "cell_type": "markdown",
   "metadata": {},
   "source": [
    "### Results"
   ]
  },
  {
   "cell_type": "code",
   "execution_count": 45,
   "metadata": {},
   "outputs": [
    {
     "name": "stdout",
     "output_type": "stream",
     "text": [
      "Accuracy of XGB classifier on training set: 0.89\n",
      "Accuracy of XGB classifier on test set: 0.89\n",
      "              precision    recall  f1-score   support\n",
      "\n",
      "           0       0.99      0.91      0.95      8287\n",
      "           1       0.87      0.80      0.83      3311\n",
      "           2       0.71      0.94      0.81      2893\n",
      "\n",
      "    accuracy                           0.89     14491\n",
      "   macro avg       0.86      0.88      0.86     14491\n",
      "weighted avg       0.91      0.89      0.89     14491\n",
      "\n"
     ]
    }
   ],
   "source": [
    "best_model = grid_search.best_estimator_\n",
    "\n",
    "train_acc = best_model.score(X_train, y_train)\n",
    "test_acc = best_model.score(X_test[X_train.columns], y_test)\n",
    "print('Accuracy of XGB classifier on training set: {:.2f}'.format(train_acc))\n",
    "print('Accuracy of XGB classifier on test set: {:.2f}'.format(test_acc))\n",
    "\n",
    "y_pred = best_model.predict(X_test)\n",
    "print(classification_report(y_test, y_pred))"
   ]
  },
  {
   "cell_type": "code",
   "execution_count": null,
   "metadata": {},
   "outputs": [],
   "source": []
  }
 ],
 "metadata": {
  "kernelspec": {
   "display_name": "1006",
   "language": "python",
   "name": "python3"
  },
  "language_info": {
   "codemirror_mode": {
    "name": "ipython",
    "version": 3
   },
   "file_extension": ".py",
   "mimetype": "text/x-python",
   "name": "python",
   "nbconvert_exporter": "python",
   "pygments_lexer": "ipython3",
   "version": "3.10.15"
  }
 },
 "nbformat": 4,
 "nbformat_minor": 2
}
